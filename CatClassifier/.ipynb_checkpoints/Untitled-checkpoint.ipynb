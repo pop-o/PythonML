{
 "cells": [
  {
   "cell_type": "code",
   "execution_count": 2,
   "id": "d6b05c87-563c-4520-9ae2-1ce61ef53972",
   "metadata": {},
   "outputs": [],
   "source": [
    "#load librarires\n",
    "import numpy as np\n",
    "import torch\n",
    "import glob\n",
    "import torch.nn as nn\n",
    "from torchvision.transforms import transforms\n",
    "from torch.utils.data import DataLoader\n",
    "from torch.optim import Adam\n",
    "from torch.autograd import Variable\n",
    "import torchvision\n",
    "import pathlib"
   ]
  },
  {
   "cell_type": "code",
   "execution_count": 3,
   "id": "e94e5560-253a-4361-93d1-6df28acd37ff",
   "metadata": {},
   "outputs": [],
   "source": [
    "#checking for device\n",
    "device=torch.device('cuda' if torch.cuda.is_available() else 'cpu')"
   ]
  },
  {
   "cell_type": "code",
   "execution_count": 5,
   "id": "104fd6bb-b526-4c32-9f8e-0230f0f703d7",
   "metadata": {},
   "outputs": [
    {
     "data": {
      "text/plain": [
       "True"
      ]
     },
     "execution_count": 5,
     "metadata": {},
     "output_type": "execute_result"
    }
   ],
   "source": [
    "torch.cuda.is_available()\n"
   ]
  },
  {
   "cell_type": "code",
   "execution_count": 17,
   "id": "fdebbe98-c588-4e8c-aade-a96c6596248b",
   "metadata": {},
   "outputs": [],
   "source": [
    "#transforms\n",
    "transformer=transforms.Compose([\n",
    "    transforms.Lambda(lambda img: img.convert('RGB')),\n",
    "    transforms.Resize((150,150)),\n",
    "    transforms.RandomHorizontalFlip(),\n",
    "    transforms.ToTensor(), #0-255 to 0-1, numpy to tensors\n",
    "    transforms.Normalize([0.5,0.5,0.5],  #0-1 to [-1,1], formula x-mean/std\n",
    "                         [0.5,0.5,0.5])    \n",
    "])"
   ]
  },
  {
   "cell_type": "code",
   "execution_count": 18,
   "id": "9ffd5aff-baaf-4558-bf77-3ad119c12389",
   "metadata": {},
   "outputs": [],
   "source": [
    "#Dataloader\n",
    "\n",
    "#Path to directories\n",
    "train_path=\"C:/Users/HP/Desktop/Extras/PythonML/CatClassifier/dataset/train\"\n",
    "test_path=\"C:/Users/HP/Desktop/Extras/PythonML/CatClassifier/dataset/test\"\n",
    "train_loader=DataLoader(torchvision.datasets.ImageFolder(train_path,transform=transformer),batch_size=256, shuffle = True)\n",
    "test_loader=DataLoader(torchvision.datasets.ImageFolder(train_path,transform=transformer),batch_size=256, shuffle = True)"
   ]
  },
  {
   "cell_type": "code",
   "execution_count": 19,
   "id": "72d93c3e-41f5-44f3-89cf-00d3be229283",
   "metadata": {},
   "outputs": [],
   "source": [
    " #categoires\n",
    "root=pathlib.Path(train_path)\n",
    "classes=sorted([j.name.split('/')[-1] for j in root.iterdir()])"
   ]
  },
  {
   "cell_type": "code",
   "execution_count": 20,
   "id": "dbc02323-8b2d-418f-a77d-b4d23d7a0312",
   "metadata": {},
   "outputs": [
    {
     "data": {
      "text/plain": [
       "['cat', 'not_cat']"
      ]
     },
     "execution_count": 20,
     "metadata": {},
     "output_type": "execute_result"
    }
   ],
   "source": [
    "classes"
   ]
  },
  {
   "cell_type": "code",
   "execution_count": 30,
   "id": "ef12b20f-c315-42b1-9e2e-405744a23d63",
   "metadata": {},
   "outputs": [],
   "source": [
    "#CNN network\n",
    "class ConvNet(nn.Module):\n",
    "    def __init__(self,num_classes=2):\n",
    "        super(ConvNet,self).__init__()\n",
    "\n",
    "        #OUTPUT SIZE AFTER CONVOLUTION FILETER\n",
    "        # ((w-f+2P)/s)+1\n",
    "\n",
    "        #input shape =(256,3,150,150)\n",
    "        self.conv1=nn.Conv2d(in_channels=3,out_channels=12,kernel_size=3,stride=1,padding=1)\n",
    "        #shape=(256,12,150,150)\n",
    "        self.bn1=nn.BatchNorm2d(num_features=12)\n",
    "        #shape=(256,12,150,150)\n",
    "        self.relu1=nn.ReLU()\n",
    "        #shape=(256,12,150,150)\n",
    "\n",
    "        self.pool=nn.MaxPool2d(kernel_size=2)\n",
    "        #reduce the image size be factor 2\n",
    "        #shape=(256,12,75,75)\n",
    "\n",
    "        self.conv2=nn.Conv2d(in_channels=12,out_channels=20,kernel_size=3,stride=1,padding=1)\n",
    "        #shape=(256,20,75,75)\n",
    "        self.relu2=nn.ReLU()\n",
    "        #shape=(256,22,75,75)\n",
    "\n",
    "        self.conv3=nn.Conv2d(in_channels=20,out_channels=32,kernel_size=3,stride=1,padding=1)\n",
    "        #shape=(256,32,75,75)\n",
    "        self.bn3=nn.BatchNorm2d(num_features=32)\n",
    "        #shape=(256,32,75,75)\n",
    "        self.relu3=nn.ReLU()\n",
    "        #shape=(256,32,75,75)\n",
    "\n",
    "        self.fc=nn.Linear(in_features=32*75*75,out_features=num_classes)\n",
    "\n",
    "    #feed forward function\n",
    "    def forward(self,input):\n",
    "        output=self.conv1(input)\n",
    "        output=self.bn1(output)\n",
    "        output=self.relu1(output)\n",
    "        output=self.pool(output)\n",
    "        output=self.conv2(output)\n",
    "        output=self.relu2(output)\n",
    "        \n",
    "        output=self.conv3(output)\n",
    "        output=self.bn3(output)\n",
    "        output=self.relu3(output)\n",
    "\n",
    "        #above output will be in matrix form with shape(256,32,75,75)\n",
    "        output=output.view(-1,32*75*75)\n",
    "\n",
    "        output=self.fc(output)\n",
    "\n",
    "        return output"
   ]
  },
  {
   "cell_type": "code",
   "execution_count": 31,
   "id": "3f231bc5-6a4c-4a11-8d2d-cfe0cbd28f3b",
   "metadata": {},
   "outputs": [],
   "source": [
    "model=ConvNet(num_classes=2).to(device)"
   ]
  },
  {
   "cell_type": "code",
   "execution_count": 32,
   "id": "f1567355-72ec-4bdd-8506-328dd620739b",
   "metadata": {},
   "outputs": [],
   "source": [
    "#optimizer and loss function\n",
    "optimizer=Adam(model.parameters(),lr=0.001,weight_decay=0.0001)\n",
    "loss_function=nn.CrossEntropyLoss()"
   ]
  },
  {
   "cell_type": "code",
   "execution_count": 33,
   "id": "4ad8405d-8201-4788-b9b8-737dd800ea07",
   "metadata": {},
   "outputs": [],
   "source": [
    "num_epochs=10"
   ]
  },
  {
   "cell_type": "code",
   "execution_count": 34,
   "id": "baaa3622-4c4f-40ce-8f71-b4409d1dabc3",
   "metadata": {},
   "outputs": [],
   "source": [
    "#calculation the size af training and testing images\n",
    "train_count=len(glob.glob(train_path+'/**/*'))\n",
    "test_count=len(glob.glob(test_path+'/**/*'))"
   ]
  },
  {
   "cell_type": "code",
   "execution_count": 35,
   "id": "74d70853-efc7-4691-8cdd-d2241698bafa",
   "metadata": {},
   "outputs": [
    {
     "data": {
      "text/plain": [
       "28372"
      ]
     },
     "execution_count": 35,
     "metadata": {},
     "output_type": "execute_result"
    }
   ],
   "source": [
    "train_count"
   ]
  },
  {
   "cell_type": "code",
   "execution_count": 36,
   "id": "d9fa0389-1bf7-40db-b038-2275f50e7222",
   "metadata": {},
   "outputs": [
    {
     "data": {
      "text/plain": [
       "12778"
      ]
     },
     "execution_count": 36,
     "metadata": {},
     "output_type": "execute_result"
    }
   ],
   "source": [
    "test_count"
   ]
  },
  {
   "cell_type": "code",
   "execution_count": null,
   "id": "05450dd9-3862-4444-aacc-4e7fecfe14a6",
   "metadata": {},
   "outputs": [],
   "source": []
  }
 ],
 "metadata": {
  "kernelspec": {
   "display_name": "Python 3 (ipykernel)",
   "language": "python",
   "name": "python3"
  },
  "language_info": {
   "codemirror_mode": {
    "name": "ipython",
    "version": 3
   },
   "file_extension": ".py",
   "mimetype": "text/x-python",
   "name": "python",
   "nbconvert_exporter": "python",
   "pygments_lexer": "ipython3",
   "version": "3.12.5"
  }
 },
 "nbformat": 4,
 "nbformat_minor": 5
}
