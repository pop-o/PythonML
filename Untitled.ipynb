{
 "cells": [
  {
   "cell_type": "code",
   "execution_count": 3,
   "id": "17eb0d12-3d0f-48e7-8d42-d882bdcd2c73",
   "metadata": {},
   "outputs": [
    {
     "name": "stdout",
     "output_type": "stream",
     "text": [
      "True\n",
      "testing started\n",
      "Epoch: 0 Train Loss: 4 Train Accuracy: 0.73375 Test accuracy: 0.7997198879551821\n",
      "Best model saved\n",
      "testing started\n",
      "Epoch: 1 Train Loss: 0 Train Accuracy: 0.81035 Test accuracy: 0.7985194077631053\n",
      "testing started\n",
      "Epoch: 2 Train Loss: 1 Train Accuracy: 0.81045 Test accuracy: 0.7194877951180472\n",
      "testing started\n",
      "Epoch: 3 Train Loss: 0 Train Accuracy: 0.8417 Test accuracy: 0.7855142056822729\n",
      "testing started\n",
      "Epoch: 4 Train Loss: 0 Train Accuracy: 0.87625 Test accuracy: 0.7909163665466187\n",
      "testing started\n",
      "Epoch: 5 Train Loss: 0 Train Accuracy: 0.8858 Test accuracy: 0.6654661864745899\n",
      "testing started\n",
      "Epoch: 6 Train Loss: 0 Train Accuracy: 0.86435 Test accuracy: 0.8345338135254101\n",
      "Best model saved\n",
      "testing started\n",
      "Epoch: 7 Train Loss: 0 Train Accuracy: 0.908 Test accuracy: 0.8447378951580632\n",
      "Best model saved\n",
      "testing started\n",
      "Epoch: 8 Train Loss: 0 Train Accuracy: 0.91105 Test accuracy: 0.820328131252501\n",
      "testing started\n",
      "Epoch: 9 Train Loss: 0 Train Accuracy: 0.9099 Test accuracy: 0.8413365346138455\n",
      "testing started\n",
      "Epoch: 10 Train Loss: 0 Train Accuracy: 0.95305 Test accuracy: 0.7969187675070029\n",
      "testing started\n",
      "Epoch: 11 Train Loss: 0 Train Accuracy: 0.95305 Test accuracy: 0.8197278911564626\n",
      "testing started\n",
      "Epoch: 12 Train Loss: 0 Train Accuracy: 0.93005 Test accuracy: 0.8475390156062425\n",
      "Best model saved\n",
      "testing started\n",
      "Epoch: 13 Train Loss: 0 Train Accuracy: 0.95075 Test accuracy: 0.8047218887555022\n",
      "testing started\n",
      "Epoch: 14 Train Loss: 0 Train Accuracy: 0.96935 Test accuracy: 0.8431372549019608\n",
      "testing started\n",
      "Epoch: 15 Train Loss: 0 Train Accuracy: 0.97345 Test accuracy: 0.8485394157663065\n",
      "Best model saved\n",
      "testing started\n",
      "Epoch: 16 Train Loss: 0 Train Accuracy: 0.97855 Test accuracy: 0.8551420568227291\n",
      "Best model saved\n",
      "testing started\n",
      "Epoch: 17 Train Loss: 0 Train Accuracy: 0.96795 Test accuracy: 0.701280512204882\n",
      "testing started\n",
      "Epoch: 18 Train Loss: 0 Train Accuracy: 0.91665 Test accuracy: 0.8477390956382553\n",
      "testing started\n",
      "Epoch: 19 Train Loss: 0 Train Accuracy: 0.9655 Test accuracy: 0.8259303721488596\n"
     ]
    },
    {
     "ename": "RuntimeError",
     "evalue": "Can't call numpy() on Tensor that requires grad. Use tensor.detach().numpy() instead.",
     "output_type": "error",
     "traceback": [
      "\u001b[1;31m---------------------------------------------------------------------------\u001b[0m",
      "\u001b[1;31mRuntimeError\u001b[0m                              Traceback (most recent call last)",
      "Cell \u001b[1;32mIn[3], line 181\u001b[0m\n\u001b[0;32m    179\u001b[0m \u001b[38;5;66;03m# Plot training loss\u001b[39;00m\n\u001b[0;32m    180\u001b[0m plt\u001b[38;5;241m.\u001b[39msubplot(\u001b[38;5;241m1\u001b[39m, \u001b[38;5;241m2\u001b[39m, \u001b[38;5;241m1\u001b[39m)\n\u001b[1;32m--> 181\u001b[0m \u001b[43mplt\u001b[49m\u001b[38;5;241;43m.\u001b[39;49m\u001b[43mplot\u001b[49m\u001b[43m(\u001b[49m\u001b[43mepochs\u001b[49m\u001b[43m,\u001b[49m\u001b[43m \u001b[49m\u001b[43mtrain_losses\u001b[49m\u001b[43m,\u001b[49m\u001b[43m \u001b[49m\u001b[38;5;124;43m'\u001b[39;49m\u001b[38;5;124;43mg\u001b[39;49m\u001b[38;5;124;43m'\u001b[39;49m\u001b[43m,\u001b[49m\u001b[43m \u001b[49m\u001b[43mlabel\u001b[49m\u001b[38;5;241;43m=\u001b[39;49m\u001b[38;5;124;43m'\u001b[39;49m\u001b[38;5;124;43mTraining loss\u001b[39;49m\u001b[38;5;124;43m'\u001b[39;49m\u001b[43m)\u001b[49m\n\u001b[0;32m    182\u001b[0m plt\u001b[38;5;241m.\u001b[39mtitle(\u001b[38;5;124m'\u001b[39m\u001b[38;5;124mTraining Loss over Epochs\u001b[39m\u001b[38;5;124m'\u001b[39m)\n\u001b[0;32m    183\u001b[0m plt\u001b[38;5;241m.\u001b[39mxlabel(\u001b[38;5;124m'\u001b[39m\u001b[38;5;124mEpochs\u001b[39m\u001b[38;5;124m'\u001b[39m)\n",
      "File \u001b[1;32m~\\AppData\\Local\\Programs\\Python\\Python312\\Lib\\site-packages\\matplotlib\\pyplot.py:3794\u001b[0m, in \u001b[0;36mplot\u001b[1;34m(scalex, scaley, data, *args, **kwargs)\u001b[0m\n\u001b[0;32m   3786\u001b[0m \u001b[38;5;129m@_copy_docstring_and_deprecators\u001b[39m(Axes\u001b[38;5;241m.\u001b[39mplot)\n\u001b[0;32m   3787\u001b[0m \u001b[38;5;28;01mdef\u001b[39;00m \u001b[38;5;21mplot\u001b[39m(\n\u001b[0;32m   3788\u001b[0m     \u001b[38;5;241m*\u001b[39margs: \u001b[38;5;28mfloat\u001b[39m \u001b[38;5;241m|\u001b[39m ArrayLike \u001b[38;5;241m|\u001b[39m \u001b[38;5;28mstr\u001b[39m,\n\u001b[1;32m   (...)\u001b[0m\n\u001b[0;32m   3792\u001b[0m     \u001b[38;5;241m*\u001b[39m\u001b[38;5;241m*\u001b[39mkwargs,\n\u001b[0;32m   3793\u001b[0m ) \u001b[38;5;241m-\u001b[39m\u001b[38;5;241m>\u001b[39m \u001b[38;5;28mlist\u001b[39m[Line2D]:\n\u001b[1;32m-> 3794\u001b[0m     \u001b[38;5;28;01mreturn\u001b[39;00m \u001b[43mgca\u001b[49m\u001b[43m(\u001b[49m\u001b[43m)\u001b[49m\u001b[38;5;241;43m.\u001b[39;49m\u001b[43mplot\u001b[49m\u001b[43m(\u001b[49m\n\u001b[0;32m   3795\u001b[0m \u001b[43m        \u001b[49m\u001b[38;5;241;43m*\u001b[39;49m\u001b[43margs\u001b[49m\u001b[43m,\u001b[49m\n\u001b[0;32m   3796\u001b[0m \u001b[43m        \u001b[49m\u001b[43mscalex\u001b[49m\u001b[38;5;241;43m=\u001b[39;49m\u001b[43mscalex\u001b[49m\u001b[43m,\u001b[49m\n\u001b[0;32m   3797\u001b[0m \u001b[43m        \u001b[49m\u001b[43mscaley\u001b[49m\u001b[38;5;241;43m=\u001b[39;49m\u001b[43mscaley\u001b[49m\u001b[43m,\u001b[49m\n\u001b[0;32m   3798\u001b[0m \u001b[43m        \u001b[49m\u001b[38;5;241;43m*\u001b[39;49m\u001b[38;5;241;43m*\u001b[39;49m\u001b[43m(\u001b[49m\u001b[43m{\u001b[49m\u001b[38;5;124;43m\"\u001b[39;49m\u001b[38;5;124;43mdata\u001b[39;49m\u001b[38;5;124;43m\"\u001b[39;49m\u001b[43m:\u001b[49m\u001b[43m \u001b[49m\u001b[43mdata\u001b[49m\u001b[43m}\u001b[49m\u001b[43m \u001b[49m\u001b[38;5;28;43;01mif\u001b[39;49;00m\u001b[43m \u001b[49m\u001b[43mdata\u001b[49m\u001b[43m \u001b[49m\u001b[38;5;129;43;01mis\u001b[39;49;00m\u001b[43m \u001b[49m\u001b[38;5;129;43;01mnot\u001b[39;49;00m\u001b[43m \u001b[49m\u001b[38;5;28;43;01mNone\u001b[39;49;00m\u001b[43m \u001b[49m\u001b[38;5;28;43;01melse\u001b[39;49;00m\u001b[43m \u001b[49m\u001b[43m{\u001b[49m\u001b[43m}\u001b[49m\u001b[43m)\u001b[49m\u001b[43m,\u001b[49m\n\u001b[0;32m   3799\u001b[0m \u001b[43m        \u001b[49m\u001b[38;5;241;43m*\u001b[39;49m\u001b[38;5;241;43m*\u001b[39;49m\u001b[43mkwargs\u001b[49m\u001b[43m,\u001b[49m\n\u001b[0;32m   3800\u001b[0m \u001b[43m    \u001b[49m\u001b[43m)\u001b[49m\n",
      "File \u001b[1;32m~\\AppData\\Local\\Programs\\Python\\Python312\\Lib\\site-packages\\matplotlib\\axes\\_axes.py:1779\u001b[0m, in \u001b[0;36mAxes.plot\u001b[1;34m(self, scalex, scaley, data, *args, **kwargs)\u001b[0m\n\u001b[0;32m   1536\u001b[0m \u001b[38;5;250m\u001b[39m\u001b[38;5;124;03m\"\"\"\u001b[39;00m\n\u001b[0;32m   1537\u001b[0m \u001b[38;5;124;03mPlot y versus x as lines and/or markers.\u001b[39;00m\n\u001b[0;32m   1538\u001b[0m \n\u001b[1;32m   (...)\u001b[0m\n\u001b[0;32m   1776\u001b[0m \u001b[38;5;124;03m(``'green'``) or hex strings (``'#008000'``).\u001b[39;00m\n\u001b[0;32m   1777\u001b[0m \u001b[38;5;124;03m\"\"\"\u001b[39;00m\n\u001b[0;32m   1778\u001b[0m kwargs \u001b[38;5;241m=\u001b[39m cbook\u001b[38;5;241m.\u001b[39mnormalize_kwargs(kwargs, mlines\u001b[38;5;241m.\u001b[39mLine2D)\n\u001b[1;32m-> 1779\u001b[0m lines \u001b[38;5;241m=\u001b[39m [\u001b[38;5;241m*\u001b[39m\u001b[38;5;28mself\u001b[39m\u001b[38;5;241m.\u001b[39m_get_lines(\u001b[38;5;28mself\u001b[39m, \u001b[38;5;241m*\u001b[39margs, data\u001b[38;5;241m=\u001b[39mdata, \u001b[38;5;241m*\u001b[39m\u001b[38;5;241m*\u001b[39mkwargs)]\n\u001b[0;32m   1780\u001b[0m \u001b[38;5;28;01mfor\u001b[39;00m line \u001b[38;5;129;01min\u001b[39;00m lines:\n\u001b[0;32m   1781\u001b[0m     \u001b[38;5;28mself\u001b[39m\u001b[38;5;241m.\u001b[39madd_line(line)\n",
      "File \u001b[1;32m~\\AppData\\Local\\Programs\\Python\\Python312\\Lib\\site-packages\\matplotlib\\axes\\_base.py:296\u001b[0m, in \u001b[0;36m_process_plot_var_args.__call__\u001b[1;34m(self, axes, data, *args, **kwargs)\u001b[0m\n\u001b[0;32m    294\u001b[0m     this \u001b[38;5;241m+\u001b[39m\u001b[38;5;241m=\u001b[39m args[\u001b[38;5;241m0\u001b[39m],\n\u001b[0;32m    295\u001b[0m     args \u001b[38;5;241m=\u001b[39m args[\u001b[38;5;241m1\u001b[39m:]\n\u001b[1;32m--> 296\u001b[0m \u001b[38;5;28;01myield from\u001b[39;00m \u001b[38;5;28;43mself\u001b[39;49m\u001b[38;5;241;43m.\u001b[39;49m\u001b[43m_plot_args\u001b[49m\u001b[43m(\u001b[49m\n\u001b[0;32m    297\u001b[0m \u001b[43m    \u001b[49m\u001b[43maxes\u001b[49m\u001b[43m,\u001b[49m\u001b[43m \u001b[49m\u001b[43mthis\u001b[49m\u001b[43m,\u001b[49m\u001b[43m \u001b[49m\u001b[43mkwargs\u001b[49m\u001b[43m,\u001b[49m\u001b[43m \u001b[49m\u001b[43mambiguous_fmt_datakey\u001b[49m\u001b[38;5;241;43m=\u001b[39;49m\u001b[43mambiguous_fmt_datakey\u001b[49m\u001b[43m)\u001b[49m\n",
      "File \u001b[1;32m~\\AppData\\Local\\Programs\\Python\\Python312\\Lib\\site-packages\\matplotlib\\axes\\_base.py:476\u001b[0m, in \u001b[0;36m_process_plot_var_args._plot_args\u001b[1;34m(self, axes, tup, kwargs, return_kwargs, ambiguous_fmt_datakey)\u001b[0m\n\u001b[0;32m    474\u001b[0m \u001b[38;5;28;01mif\u001b[39;00m \u001b[38;5;28mlen\u001b[39m(xy) \u001b[38;5;241m==\u001b[39m \u001b[38;5;241m2\u001b[39m:\n\u001b[0;32m    475\u001b[0m     x \u001b[38;5;241m=\u001b[39m _check_1d(xy[\u001b[38;5;241m0\u001b[39m])\n\u001b[1;32m--> 476\u001b[0m     y \u001b[38;5;241m=\u001b[39m \u001b[43m_check_1d\u001b[49m\u001b[43m(\u001b[49m\u001b[43mxy\u001b[49m\u001b[43m[\u001b[49m\u001b[38;5;241;43m1\u001b[39;49m\u001b[43m]\u001b[49m\u001b[43m)\u001b[49m\n\u001b[0;32m    477\u001b[0m \u001b[38;5;28;01melse\u001b[39;00m:\n\u001b[0;32m    478\u001b[0m     x, y \u001b[38;5;241m=\u001b[39m index_of(xy[\u001b[38;5;241m-\u001b[39m\u001b[38;5;241m1\u001b[39m])\n",
      "File \u001b[1;32m~\\AppData\\Local\\Programs\\Python\\Python312\\Lib\\site-packages\\matplotlib\\cbook.py:1411\u001b[0m, in \u001b[0;36m_check_1d\u001b[1;34m(x)\u001b[0m\n\u001b[0;32m   1405\u001b[0m \u001b[38;5;66;03m# plot requires `shape` and `ndim`.  If passed an\u001b[39;00m\n\u001b[0;32m   1406\u001b[0m \u001b[38;5;66;03m# object that doesn't provide them, then force to numpy array.\u001b[39;00m\n\u001b[0;32m   1407\u001b[0m \u001b[38;5;66;03m# Note this will strip unit information.\u001b[39;00m\n\u001b[0;32m   1408\u001b[0m \u001b[38;5;28;01mif\u001b[39;00m (\u001b[38;5;129;01mnot\u001b[39;00m \u001b[38;5;28mhasattr\u001b[39m(x, \u001b[38;5;124m'\u001b[39m\u001b[38;5;124mshape\u001b[39m\u001b[38;5;124m'\u001b[39m) \u001b[38;5;129;01mor\u001b[39;00m\n\u001b[0;32m   1409\u001b[0m         \u001b[38;5;129;01mnot\u001b[39;00m \u001b[38;5;28mhasattr\u001b[39m(x, \u001b[38;5;124m'\u001b[39m\u001b[38;5;124mndim\u001b[39m\u001b[38;5;124m'\u001b[39m) \u001b[38;5;129;01mor\u001b[39;00m\n\u001b[0;32m   1410\u001b[0m         \u001b[38;5;28mlen\u001b[39m(x\u001b[38;5;241m.\u001b[39mshape) \u001b[38;5;241m<\u001b[39m \u001b[38;5;241m1\u001b[39m):\n\u001b[1;32m-> 1411\u001b[0m     \u001b[38;5;28;01mreturn\u001b[39;00m \u001b[43mnp\u001b[49m\u001b[38;5;241;43m.\u001b[39;49m\u001b[43matleast_1d\u001b[49m\u001b[43m(\u001b[49m\u001b[43mx\u001b[49m\u001b[43m)\u001b[49m\n\u001b[0;32m   1412\u001b[0m \u001b[38;5;28;01melse\u001b[39;00m:\n\u001b[0;32m   1413\u001b[0m     \u001b[38;5;28;01mreturn\u001b[39;00m x\n",
      "File \u001b[1;32m~\\AppData\\Local\\Programs\\Python\\Python312\\Lib\\site-packages\\numpy\\core\\shape_base.py:65\u001b[0m, in \u001b[0;36matleast_1d\u001b[1;34m(*arys)\u001b[0m\n\u001b[0;32m     63\u001b[0m res \u001b[38;5;241m=\u001b[39m []\n\u001b[0;32m     64\u001b[0m \u001b[38;5;28;01mfor\u001b[39;00m ary \u001b[38;5;129;01min\u001b[39;00m arys:\n\u001b[1;32m---> 65\u001b[0m     ary \u001b[38;5;241m=\u001b[39m \u001b[43masanyarray\u001b[49m\u001b[43m(\u001b[49m\u001b[43mary\u001b[49m\u001b[43m)\u001b[49m\n\u001b[0;32m     66\u001b[0m     \u001b[38;5;28;01mif\u001b[39;00m ary\u001b[38;5;241m.\u001b[39mndim \u001b[38;5;241m==\u001b[39m \u001b[38;5;241m0\u001b[39m:\n\u001b[0;32m     67\u001b[0m         result \u001b[38;5;241m=\u001b[39m ary\u001b[38;5;241m.\u001b[39mreshape(\u001b[38;5;241m1\u001b[39m)\n",
      "File \u001b[1;32m~\\AppData\\Local\\Programs\\Python\\Python312\\Lib\\site-packages\\torch\\_tensor.py:1083\u001b[0m, in \u001b[0;36mTensor.__array__\u001b[1;34m(self, dtype)\u001b[0m\n\u001b[0;32m   1081\u001b[0m     \u001b[38;5;28;01mreturn\u001b[39;00m handle_torch_function(Tensor\u001b[38;5;241m.\u001b[39m__array__, (\u001b[38;5;28mself\u001b[39m,), \u001b[38;5;28mself\u001b[39m, dtype\u001b[38;5;241m=\u001b[39mdtype)\n\u001b[0;32m   1082\u001b[0m \u001b[38;5;28;01mif\u001b[39;00m dtype \u001b[38;5;129;01mis\u001b[39;00m \u001b[38;5;28;01mNone\u001b[39;00m:\n\u001b[1;32m-> 1083\u001b[0m     \u001b[38;5;28;01mreturn\u001b[39;00m \u001b[38;5;28;43mself\u001b[39;49m\u001b[38;5;241;43m.\u001b[39;49m\u001b[43mnumpy\u001b[49m\u001b[43m(\u001b[49m\u001b[43m)\u001b[49m\n\u001b[0;32m   1084\u001b[0m \u001b[38;5;28;01melse\u001b[39;00m:\n\u001b[0;32m   1085\u001b[0m     \u001b[38;5;28;01mreturn\u001b[39;00m \u001b[38;5;28mself\u001b[39m\u001b[38;5;241m.\u001b[39mnumpy()\u001b[38;5;241m.\u001b[39mastype(dtype, copy\u001b[38;5;241m=\u001b[39m\u001b[38;5;28;01mFalse\u001b[39;00m)\n",
      "\u001b[1;31mRuntimeError\u001b[0m: Can't call numpy() on Tensor that requires grad. Use tensor.detach().numpy() instead."
     ]
    },
    {
     "data": {
      "image/png": "[encoded data removed]",
      "text/plain": [
       "<Figure size 1200x500 with 1 Axes>"
      ]
     },
     "metadata": {},
     "output_type": "display_data"
    }
   ],
   "source": [
    "#load librarires\n",
    "import numpy as np\n",
    "\n",
    "\n",
    "import torch\n",
    "import glob\n",
    "import torch.nn as nn\n",
    "from torchvision.transforms import transforms\n",
    "from torch.utils.data import DataLoader\n",
    "from torch.optim import Adam\n",
    "import torchvision\n",
    "import matplotlib.pyplot as plt\n",
    "import pathlib\n",
    "\n",
    "#checking for device\n",
    "device=torch.device('cuda' if torch.cuda.is_available() else 'cpu')\n",
    "\n",
    "print(torch.cuda.is_available())\n",
    "\n",
    "#transforms\n",
    "transformer=transforms.Compose([\n",
    "    transforms.Lambda(lambda img: img.convert('RGB')),\n",
    "    transforms.Resize((150,150)),\n",
    "    transforms.RandomHorizontalFlip(),\n",
    "    transforms.ToTensor(), #0-255 to 0-1, numpy to tensors\n",
    "    transforms.Normalize([0.5,0.5,0.5],  #0-1 to [-1,1], formula x-mean/std\n",
    "                         [0.5,0.5,0.5])    \n",
    "])\n",
    "\n",
    "#Dataloader\n",
    "\n",
    "#Path to directories\n",
    "train_path=\"C:/Users/HP/Desktop/Extras/PythonML/CatClassifier/dataset/train\"\n",
    "test_path=\"C:/Users/HP/Desktop/Extras/PythonML/CatClassifier/dataset/test\"\n",
    "train_loader=DataLoader(torchvision.datasets.ImageFolder(train_path,transform=transformer),batch_size=256, shuffle = True)\n",
    "test_loader=DataLoader(torchvision.datasets.ImageFolder(test_path,transform=transformer),batch_size=256, shuffle = True)\n",
    "\n",
    " #categoires\n",
    "root=pathlib.Path(train_path)\n",
    "classes=sorted([j.name.split('/')[-1] for j in root.iterdir()])\n",
    "\n",
    "#CNN network\n",
    "class ConvNet(nn.Module):\n",
    "    def __init__(self,num_classes=2):\n",
    "        super(ConvNet,self).__init__()\n",
    "\n",
    "        #OUTPUT SIZE AFTER CONVOLUTION FILETER\n",
    "        # ((w-f+2P)/s)+1\n",
    "\n",
    "        #input shape =(256,3,150,150)\n",
    "        self.conv1=nn.Conv2d(in_channels=3,out_channels=12,kernel_size=3,stride=1,padding=1)\n",
    "        #shape=(256,12,150,150)\n",
    "        self.bn1=nn.BatchNorm2d(num_features=12)\n",
    "        #shape=(256,12,150,150)\n",
    "        self.relu1=nn.ReLU()\n",
    "        #shape=(256,12,150,150)\n",
    "\n",
    "        self.pool=nn.MaxPool2d(kernel_size=2)\n",
    "        #reduce the image size be factor 2\n",
    "        #shape=(256,12,75,75)\n",
    "\n",
    "        self.conv2=nn.Conv2d(in_channels=12,out_channels=20,kernel_size=3,stride=1,padding=1)\n",
    "        #shape=(256,20,75,75)\n",
    "        self.relu2=nn.ReLU()\n",
    "        #shape=(256,22,75,75)\n",
    "\n",
    "        self.conv3=nn.Conv2d(in_channels=20,out_channels=32,kernel_size=3,stride=1,padding=1)\n",
    "        #shape=(256,32,75,75)\n",
    "        self.bn3=nn.BatchNorm2d(num_features=32)\n",
    "        #shape=(256,32,75,75)\n",
    "        self.relu3=nn.ReLU()\n",
    "        #shape=(256,32,75,75)\n",
    "\n",
    "        self.fc=nn.Linear(in_features=32*75*75,out_features=num_classes)\n",
    "\n",
    "    #feed forward function\n",
    "    def forward(self,input):\n",
    "        output=self.conv1(input)\n",
    "        output=self.bn1(output)\n",
    "        output=self.relu1(output)\n",
    "        \n",
    "        output=self.pool(output)\n",
    "        output=self.conv2(output)\n",
    "        output=self.relu2(output)\n",
    "        \n",
    "        output=self.conv3(output)\n",
    "        output=self.bn3(output)\n",
    "        output=self.relu3(output)\n",
    "\n",
    "        #above output will be in matrix form with shape(256,32,75,75)\n",
    "        output=output.view(-1,32*75*75)\n",
    "\n",
    "        output=self.fc(output)\n",
    "\n",
    "        return output\n",
    "    \n",
    "model=ConvNet(num_classes=2).to(device)\n",
    "\n",
    "#optimizer and loss function\n",
    "optimizer=Adam(model.parameters(),lr=0.001,weight_decay=0.0001)\n",
    "loss_function=nn.CrossEntropyLoss()\n",
    "\n",
    "num_epochs=20\n",
    "\n",
    "#calculation the size af training and testing images\n",
    "train_count=len(glob.glob(train_path+'/**/*'))\n",
    "test_count=len(glob.glob(test_path+'/**/*'))\n",
    "\n",
    "# Initialize lists to store training and test metrics\n",
    "train_losses = []\n",
    "test_accuracies = []\n",
    "train_accuracies = []\n",
    "\n",
    "#model training and savin best model\n",
    "\n",
    "best_accuracy=0\n",
    "for epoch in range(num_epochs):\n",
    "    #evaluation and training on training dataset\n",
    "    model.train()\n",
    "    train_accuracy=0.0\n",
    "    train_loss=0.0\n",
    "    \n",
    "    for i,(images,labels) in enumerate(train_loader):\n",
    "        if torch.cuda.is_available():\n",
    "            images=images.to(device)\n",
    "            labels=labels.to(device)\n",
    "\n",
    "        \n",
    "        optimizer.zero_grad()\n",
    "        outputs=model(images)\n",
    "\n",
    "        \n",
    "\n",
    "        loss=loss_function(outputs,labels)\n",
    "        loss.backward()\n",
    "        optimizer.step()\n",
    "\n",
    "        train_loss+=loss.cpu()*images.size(0)\n",
    "        _,prediction=torch.max(outputs.data,1)\n",
    "        \n",
    "        train_accuracy+=int(torch.sum(prediction==labels.data))\n",
    "\n",
    "    train_accuracy=train_accuracy/train_count\n",
    "    train_loss=train_loss/train_count\n",
    "    \n",
    "    # Store train loss and accuracy\n",
    "    train_losses.append(train_loss)\n",
    "    train_accuracies.append(train_accuracy)\n",
    "    \n",
    "    #evaluaiton on testinf datasert\n",
    "    model.eval()\n",
    "    test_accuracy=0.0\n",
    "    print(\"testing started\")\n",
    "    for i,(images,labels) in enumerate(test_loader):\n",
    "        if torch.cuda.is_available():\n",
    "            images=images.to(device)\n",
    "            labels=labels.to(device)\n",
    "\n",
    "        outputs=model(images)\n",
    "        _,prediction=torch.max(outputs.data,1)\n",
    "        test_accuracy+=int(torch.sum(prediction==labels.data))\n",
    "\n",
    "    test_accuracy=test_accuracy/test_count\n",
    "    test_accuracies.append(test_accuracy)\n",
    "\n",
    "    print('Epoch: '+str(epoch)+' Train Loss: '+str(int(train_loss))+' Train Accuracy: '+ str(train_accuracy)+' Test accuracy: '+str(test_accuracy))\n",
    "\n",
    "    #save the best model\n",
    "    if test_accuracy>best_accuracy:\n",
    "        print(\"Best model saved\")\n",
    "        torch.save(model.state_dict(),'best_checkpoint.model')\n",
    "        best_accuracy=test_accuracy \n",
    "        \n",
    "# Plotting the results\n",
    "epochs = range(1, num_epochs + 1)\n",
    "\n",
    "plt.figure(figsize=(12, 5))\n",
    "\n",
    "# Plot training loss\n",
    "plt.subplot(1, 2, 1)\n",
    "plt.plot(epochs, train_losses, 'g', label='Training loss')\n",
    "plt.title('Training Loss over Epochs')\n",
    "plt.xlabel('Epochs')\n",
    "plt.ylabel('Loss')\n",
    "plt.legend()\n",
    "\n",
    "# Plot accuracy\n",
    "plt.subplot(1, 2, 2)\n",
    "plt.plot(epochs, train_accuracies, 'b', label='Training Accuracy')\n",
    "plt.plot(epochs, test_accuracies, 'r', label='Test Accuracy')\n",
    "plt.title('Training and Test Accuracy over Epochs')\n",
    "plt.xlabel('Epochs')\n",
    "plt.ylabel('Accuracy')\n",
    "plt.legend()\n",
    "\n",
    "plt.show()"
   ]
  },
  {
   "cell_type": "code",
   "execution_count": 4,
   "id": "faf914cd-30ab-4b39-9424-f2e8e9616632",
   "metadata": {},
   "outputs": [
    {
     "data": {
      "text/plain": [
       "[0.7997198879551821,\n",
       " 0.7985194077631053,\n",
       " 0.7194877951180472,\n",
       " 0.7855142056822729,\n",
       " 0.7909163665466187,\n",
       " 0.6654661864745899,\n",
       " 0.8345338135254101,\n",
       " 0.8447378951580632,\n",
       " 0.820328131252501,\n",
       " 0.8413365346138455,\n",
       " 0.7969187675070029,\n",
       " 0.8197278911564626,\n",
       " 0.8475390156062425,\n",
       " 0.8047218887555022,\n",
       " 0.8431372549019608,\n",
       " 0.8485394157663065,\n",
       " 0.8551420568227291,\n",
       " 0.701280512204882,\n",
       " 0.8477390956382553,\n",
       " 0.8259303721488596]"
      ]
     },
     "execution_count": 4,
     "metadata": {},
     "output_type": "execute_result"
    }
   ],
   "source": [
    "test_accuracies"
   ]
  },
  {
   "cell_type": "code",
   "execution_count": 5,
   "id": "c349c171-45b3-4ab8-a39f-d6b1b8772a9c",
   "metadata": {},
   "outputs": [
    {
     "data": {
      "text/plain": [
       "[tensor(4.3298, grad_fn=<DivBackward0>),\n",
       " tensor(0.9363, grad_fn=<DivBackward0>),\n",
       " tensor(1.0595, grad_fn=<DivBackward0>),\n",
       " tensor(0.6359, grad_fn=<DivBackward0>),\n",
       " tensor(0.4075, grad_fn=<DivBackward0>),\n",
       " tensor(0.3804, grad_fn=<DivBackward0>),\n",
       " tensor(0.5466, grad_fn=<DivBackward0>),\n",
       " tensor(0.3072, grad_fn=<DivBackward0>),\n",
       " tensor(0.2830, grad_fn=<DivBackward0>),\n",
       " tensor(0.3047, grad_fn=<DivBackward0>),\n",
       " tensor(0.1325, grad_fn=<DivBackward0>),\n",
       " tensor(0.1254, grad_fn=<DivBackward0>),\n",
       " tensor(0.2326, grad_fn=<DivBackward0>),\n",
       " tensor(0.1403, grad_fn=<DivBackward0>),\n",
       " tensor(0.0812, grad_fn=<DivBackward0>),\n",
       " tensor(0.0723, grad_fn=<DivBackward0>),\n",
       " tensor(0.0590, grad_fn=<DivBackward0>),\n",
       " tensor(0.0927, grad_fn=<DivBackward0>),\n",
       " tensor(0.3885, grad_fn=<DivBackward0>),\n",
       " tensor(0.0949, grad_fn=<DivBackward0>)]"
      ]
     },
     "execution_count": 5,
     "metadata": {},
     "output_type": "execute_result"
    }
   ],
   "source": [
    "train_losses\n"
   ]
  },
  {
   "cell_type": "code",
   "execution_count": 6,
   "id": "ae148e04-1dbe-47e0-bc82-9cdd74a03fb0",
   "metadata": {},
   "outputs": [
    {
     "data": {
      "text/plain": [
       "[0.73375,\n",
       " 0.81035,\n",
       " 0.81045,\n",
       " 0.8417,\n",
       " 0.87625,\n",
       " 0.8858,\n",
       " 0.86435,\n",
       " 0.908,\n",
       " 0.91105,\n",
       " 0.9099,\n",
       " 0.95305,\n",
       " 0.95305,\n",
       " 0.93005,\n",
       " 0.95075,\n",
       " 0.96935,\n",
       " 0.97345,\n",
       " 0.97855,\n",
       " 0.96795,\n",
       " 0.91665,\n",
       " 0.9655]"
      ]
     },
     "execution_count": 6,
     "metadata": {},
     "output_type": "execute_result"
    }
   ],
   "source": [
    "train_accuracies"
   ]
  },
  {
   "cell_type": "code",
   "execution_count": 10,
   "id": "89475c07-2490-4e74-985e-1a58da892c89",
   "metadata": {},
   "outputs": [
    {
     "ename": "AttributeError",
     "evalue": "'list' object has no attribute 'detach'",
     "output_type": "error",
     "traceback": [
      "\u001b[1;31m---------------------------------------------------------------------------\u001b[0m",
      "\u001b[1;31mAttributeError\u001b[0m                            Traceback (most recent call last)",
      "Cell \u001b[1;32mIn[10], line 1\u001b[0m\n\u001b[1;32m----> 1\u001b[0m \u001b[43mtrain_losses\u001b[49m\u001b[38;5;241;43m.\u001b[39;49m\u001b[43mdetach\u001b[49m()\u001b[38;5;241m.\u001b[39mnumpy()\n",
      "\u001b[1;31mAttributeError\u001b[0m: 'list' object has no attribute 'detach'"
     ]
    }
   ],
   "source": [
    "train_losses.detach().numpy()"
   ]
  },
  {
   "cell_type": "code",
   "execution_count": 9,
   "id": "2b88f242-0163-462f-86df-226f16a56980",
   "metadata": {},
   "outputs": [
    {
     "data": {
      "text/plain": [
       "[tensor(4.3298, grad_fn=<DivBackward0>),\n",
       " tensor(0.9363, grad_fn=<DivBackward0>),\n",
       " tensor(1.0595, grad_fn=<DivBackward0>),\n",
       " tensor(0.6359, grad_fn=<DivBackward0>),\n",
       " tensor(0.4075, grad_fn=<DivBackward0>),\n",
       " tensor(0.3804, grad_fn=<DivBackward0>),\n",
       " tensor(0.5466, grad_fn=<DivBackward0>),\n",
       " tensor(0.3072, grad_fn=<DivBackward0>),\n",
       " tensor(0.2830, grad_fn=<DivBackward0>),\n",
       " tensor(0.3047, grad_fn=<DivBackward0>),\n",
       " tensor(0.1325, grad_fn=<DivBackward0>),\n",
       " tensor(0.1254, grad_fn=<DivBackward0>),\n",
       " tensor(0.2326, grad_fn=<DivBackward0>),\n",
       " tensor(0.1403, grad_fn=<DivBackward0>),\n",
       " tensor(0.0812, grad_fn=<DivBackward0>),\n",
       " tensor(0.0723, grad_fn=<DivBackward0>),\n",
       " tensor(0.0590, grad_fn=<DivBackward0>),\n",
       " tensor(0.0927, grad_fn=<DivBackward0>),\n",
       " tensor(0.3885, grad_fn=<DivBackward0>),\n",
       " tensor(0.0949, grad_fn=<DivBackward0>)]"
      ]
     },
     "execution_count": 9,
     "metadata": {},
     "output_type": "execute_result"
    }
   ],
   "source": [
    "train_losses"
   ]
  },
  {
   "cell_type": "code",
   "execution_count": 11,
   "id": "68a18b5d-b9f6-4b05-afbc-507f532cefef",
   "metadata": {},
   "outputs": [],
   "source": [
    "train_losses_numpy = [loss.detach().numpy() for loss in train_losses]"
   ]
  },
  {
   "cell_type": "code",
   "execution_count": 12,
   "id": "7a188570-3bcb-4dcb-9e9e-75a36241265f",
   "metadata": {},
   "outputs": [
    {
     "data": {
      "text/plain": [
       "[array(4.3297706, dtype=float32),\n",
       " array(0.93632394, dtype=float32),\n",
       " array(1.0595278, dtype=float32),\n",
       " array(0.63586134, dtype=float32),\n",
       " array(0.4075389, dtype=float32),\n",
       " array(0.38037086, dtype=float32),\n",
       " array(0.54661167, dtype=float32),\n",
       " array(0.30716607, dtype=float32),\n",
       " array(0.28304324, dtype=float32),\n",
       " array(0.30474216, dtype=float32),\n",
       " array(0.13254037, dtype=float32),\n",
       " array(0.12538438, dtype=float32),\n",
       " array(0.2325718, dtype=float32),\n",
       " array(0.14031537, dtype=float32),\n",
       " array(0.08115263, dtype=float32),\n",
       " array(0.07229911, dtype=float32),\n",
       " array(0.05901153, dtype=float32),\n",
       " array(0.092683, dtype=float32),\n",
       " array(0.38846284, dtype=float32),\n",
       " array(0.0948921, dtype=float32)]"
      ]
     },
     "execution_count": 12,
     "metadata": {},
     "output_type": "execute_result"
    }
   ],
   "source": [
    "train_losses_numpy"
   ]
  },
  {
   "cell_type": "code",
   "execution_count": 13,
   "id": "25c076dd-3058-4f9b-939f-9325c38594a4",
   "metadata": {},
   "outputs": [
    {
     "data": {
      "image/png": "[encoded data removed]",
      "text/plain": [
       "<Figure size 1200x500 with 2 Axes>"
      ]
     },
     "metadata": {},
     "output_type": "display_data"
    }
   ],
   "source": [
    "epochs = range(1, num_epochs + 1)\n",
    "\n",
    "plt.figure(figsize=(12, 5))\n",
    "\n",
    "# Plot training loss\n",
    "plt.subplot(1, 2, 1)\n",
    "plt.plot(epochs, train_losses_numpy, 'g', label='Training loss')\n",
    "plt.title('Training Loss over Epochs')\n",
    "plt.xlabel('Epochs')\n",
    "plt.ylabel('Loss')\n",
    "plt.legend()\n",
    "\n",
    "# Plot accuracy\n",
    "plt.subplot(1, 2, 2)\n",
    "plt.plot(epochs, train_accuracies, 'b', label='Training Accuracy')\n",
    "plt.plot(epochs, test_accuracies, 'r', label='Test Accuracy')\n",
    "plt.title('Training and Test Accuracy over Epochs')\n",
    "plt.xlabel('Epochs')\n",
    "plt.ylabel('Accuracy')\n",
    "plt.legend()\n",
    "\n",
    "plt.show()"
   ]
  },
  {
   "cell_type": "code",
   "execution_count": null,
   "id": "90d11818-0eef-42eb-a16f-8666cb336352",
   "metadata": {},
   "outputs": [],
   "source": []
  }
 ],
 "metadata": {
  "kernelspec": {
   "display_name": "Python 3 (ipykernel)",
   "language": "python",
   "name": "python3"
  },
  "language_info": {
   "codemirror_mode": {
    "name": "ipython",
    "version": 3
   },
   "file_extension": ".py",
   "mimetype": "text/x-python",
   "name": "python",
   "nbconvert_exporter": "python",
   "pygments_lexer": "ipython3",
   "version": "3.12.5"
  }
 },
 "nbformat": 4,
 "nbformat_minor": 5
}
